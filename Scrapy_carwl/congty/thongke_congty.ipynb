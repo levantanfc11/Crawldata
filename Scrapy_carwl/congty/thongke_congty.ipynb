{
 "cells": [
  {
   "cell_type": "code",
   "execution_count": 2,
   "metadata": {},
   "outputs": [],
   "source": [
    "import numpy as np\n",
    "import pandas as pd\n",
    "from scipy import stats\n",
    "import seaborn as sns\n",
    "from matplotlib import pyplot as plt\n",
    "import statsmodels.api as sm\n",
    "\n",
    "plt.figure(figsize=(20,20))\n",
    "%matplotlib inline"
   ]
  },
  {
   "cell_type": "code",
   "execution_count": 7,
   "metadata": {},
   "outputs": [
    {
     "data": {
      "text/html": [
       "<div>\n",
       "<style scoped>\n",
       "    .dataframe tbody tr th:only-of-type {\n",
       "        vertical-align: middle;\n",
       "    }\n",
       "\n",
       "    .dataframe tbody tr th {\n",
       "        vertical-align: top;\n",
       "    }\n",
       "\n",
       "    .dataframe thead th {\n",
       "        text-align: right;\n",
       "    }\n",
       "</style>\n",
       "<table border=\"1\" class=\"dataframe\">\n",
       "  <thead>\n",
       "    <tr style=\"text-align: right;\">\n",
       "      <th></th>\n",
       "      <th>Linhvuc</th>\n",
       "      <th>Quocgia</th>\n",
       "      <th>Tencongty</th>\n",
       "    </tr>\n",
       "  </thead>\n",
       "  <tbody>\n",
       "    <tr>\n",
       "      <th>0</th>\n",
       "      <td>Banking</td>\n",
       "      <td>China</td>\n",
       "      <td>#1 ICBC</td>\n",
       "    </tr>\n",
       "    <tr>\n",
       "      <th>1</th>\n",
       "      <td>Oil &amp; Gas Operations</td>\n",
       "      <td>Thailand</td>\n",
       "      <td>#234 PTT</td>\n",
       "    </tr>\n",
       "    <tr>\n",
       "      <th>2</th>\n",
       "      <td>Banking</td>\n",
       "      <td>Qatar</td>\n",
       "      <td>#221 Qatar National Bank</td>\n",
       "    </tr>\n",
       "    <tr>\n",
       "      <th>3</th>\n",
       "      <td>Semiconductors</td>\n",
       "      <td>Taiwan</td>\n",
       "      <td>#66 Taiwan Semiconductor</td>\n",
       "    </tr>\n",
       "    <tr>\n",
       "      <th>4</th>\n",
       "      <td>Technology Hardware &amp; Equipment</td>\n",
       "      <td>South Korea</td>\n",
       "      <td>#11 Samsung Electronics</td>\n",
       "    </tr>\n",
       "    <tr>\n",
       "      <th>5</th>\n",
       "      <td>Consumer Durables</td>\n",
       "      <td>Japan</td>\n",
       "      <td>#12 Toyota Motor</td>\n",
       "    </tr>\n",
       "    <tr>\n",
       "      <th>6</th>\n",
       "      <td>Banking</td>\n",
       "      <td>China</td>\n",
       "      <td>#9 Agricultural Bank of China</td>\n",
       "    </tr>\n",
       "    <tr>\n",
       "      <th>7</th>\n",
       "      <td>Insurance</td>\n",
       "      <td>China</td>\n",
       "      <td>#6 Ping An Insurance Group</td>\n",
       "    </tr>\n",
       "    <tr>\n",
       "      <th>8</th>\n",
       "      <td>Banking</td>\n",
       "      <td>China</td>\n",
       "      <td>#4 China Construction Bank</td>\n",
       "    </tr>\n",
       "    <tr>\n",
       "      <th>9</th>\n",
       "      <td>Telecommunications Services</td>\n",
       "      <td>Hong Kong</td>\n",
       "      <td>#32 China Mobile</td>\n",
       "    </tr>\n",
       "  </tbody>\n",
       "</table>\n",
       "</div>"
      ],
      "text/plain": [
       "                           Linhvuc      Quocgia                      Tencongty\n",
       "0                          Banking        China                        #1 ICBC\n",
       "1             Oil & Gas Operations     Thailand                      #234 PTT \n",
       "2                          Banking        Qatar       #221 Qatar National Bank\n",
       "3                   Semiconductors       Taiwan       #66 Taiwan Semiconductor\n",
       "4  Technology Hardware & Equipment  South Korea        #11 Samsung Electronics\n",
       "5                Consumer Durables        Japan               #12 Toyota Motor\n",
       "6                          Banking        China  #9 Agricultural Bank of China\n",
       "7                        Insurance        China     #6 Ping An Insurance Group\n",
       "8                          Banking        China     #4 China Construction Bank\n",
       "9      Telecommunications Services    Hong Kong               #32 China Mobile"
      ]
     },
     "execution_count": 7,
     "metadata": {},
     "output_type": "execute_result"
    }
   ],
   "source": [
    "data = pd.read_csv('output.csv')\n",
    "data.head(10)"
   ]
  },
  {
   "cell_type": "code",
   "execution_count": 9,
   "metadata": {},
   "outputs": [],
   "source": [
    "def stat_table(a,title_plt):\n",
    "    x = data.groupby(a)[a].count()\n",
    "    dt = pd.DataFrame(x)\n",
    "    dt.columns = ['Percent']\n",
    "    percent = []\n",
    "    for i in dt['Percent']:\n",
    "        x = (i/len(data[a]))*100\n",
    "        percent.append(x)\n",
    "    dt['Percent'] = percent\n",
    "    print(dt)\n",
    "    mylabels = dt.index\n",
    "    fig = plt.figure(figsize = (3, 6))\n",
    "    # Barplot\n",
    "    plt.title(title_plt, fontsize = 20, color = 'red')\n",
    "    sns.barplot(percent, mylabels, data = dt, orient = 'h')"
   ]
  },
  {
   "cell_type": "code",
   "execution_count": 11,
   "metadata": {},
   "outputs": [
    {
     "name": "stdout",
     "output_type": "stream",
     "text": [
      "                                 Percent\n",
      "Linhvuc                                 \n",
      "Banking                             40.0\n",
      "Consumer Durables                   10.0\n",
      "Insurance                           10.0\n",
      "Oil & Gas Operations                10.0\n",
      "Semiconductors                      10.0\n",
      "Technology Hardware & Equipment     10.0\n",
      "Telecommunications Services         10.0\n"
     ]
    },
    {
     "name": "stderr",
     "output_type": "stream",
     "text": [
      "C:\\Users\\USER\\AppData\\Local\\Programs\\Python\\Python39\\lib\\site-packages\\seaborn\\_decorators.py:36: FutureWarning: Pass the following variables as keyword args: x, y. From version 0.12, the only valid positional argument will be `data`, and passing other arguments without an explicit keyword will result in an error or misinterpretation.\n",
      "  warnings.warn(\n"
     ]
    },
    {
     "data": {
      "image/png": "[encoded data removed]",
      "text/plain": [
       "<Figure size 216x432 with 1 Axes>"
      ]
     },
     "metadata": {
      "needs_background": "light"
     },
     "output_type": "display_data"
    }
   ],
   "source": [
    "stat_table(\"Linhvuc\", \"Lĩnh vực của các công ty\")"
   ]
  },
  {
   "cell_type": "code",
   "execution_count": null,
   "metadata": {},
   "outputs": [],
   "source": [
    "stat_table(\"Quocgia\", \"Quốc gia của các công ty\")"
   ]
  }
 ],
 "metadata": {
  "interpreter": {
   "hash": "23300995598eec4bcf6bd89cf02d1c3675e8b2616661418dbbf5580aa901878d"
  },
  "kernelspec": {
   "display_name": "Python 3.9.1 64-bit",
   "name": "python3"
  },
  "language_info": {
   "codemirror_mode": {
    "name": "ipython",
    "version": 3
   },
   "file_extension": ".py",
   "mimetype": "text/x-python",
   "name": "python",
   "nbconvert_exporter": "python",
   "pygments_lexer": "ipython3",
   "version": "3.9.1"
  },
  "orig_nbformat": 4
 },
 "nbformat": 4,
 "nbformat_minor": 2
}
